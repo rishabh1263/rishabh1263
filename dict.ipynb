{
 "cells": [
  {
   "cell_type": "code",
   "execution_count": 5,
   "id": "a6f73c5f",
   "metadata": {},
   "outputs": [],
   "source": [
    "d = {}"
   ]
  },
  {
   "cell_type": "code",
   "execution_count": 6,
   "id": "97d4dbd5",
   "metadata": {},
   "outputs": [
    {
     "data": {
      "text/plain": [
       "dict"
      ]
     },
     "execution_count": 6,
     "metadata": {},
     "output_type": "execute_result"
    }
   ],
   "source": [
    "type(d)"
   ]
  },
  {
   "cell_type": "code",
   "execution_count": 7,
   "id": "313ec7e5",
   "metadata": {},
   "outputs": [],
   "source": [
    "d1 = {\"key\":\"sudh\"}"
   ]
  },
  {
   "cell_type": "code",
   "execution_count": 8,
   "id": "68344cfc",
   "metadata": {},
   "outputs": [
    {
     "data": {
      "text/plain": [
       "{'key': 'sudh'}"
      ]
     },
     "execution_count": 8,
     "metadata": {},
     "output_type": "execute_result"
    }
   ],
   "source": [
    "d1"
   ]
  },
  {
   "cell_type": "code",
   "execution_count": 9,
   "id": "35fd27b4",
   "metadata": {},
   "outputs": [],
   "source": [
    "d2 = {\"name\":\"rishabh\", \"email\": \"ss@gmail.com\", \"number\":33434}"
   ]
  },
  {
   "cell_type": "code",
   "execution_count": 10,
   "id": "68c51018",
   "metadata": {},
   "outputs": [
    {
     "data": {
      "text/plain": [
       "{'name': 'rishabh', 'email': 'ss@gmail.com', 'number': 33434}"
      ]
     },
     "execution_count": 10,
     "metadata": {},
     "output_type": "execute_result"
    }
   ],
   "source": [
    "d2"
   ]
  },
  {
   "cell_type": "code",
   "execution_count": 18,
   "id": "27a34d3e",
   "metadata": {},
   "outputs": [],
   "source": [
    "d3 = {323:\"rishabh\", '_weew':\"kumar\", True:\"32323\"}"
   ]
  },
  {
   "cell_type": "code",
   "execution_count": 19,
   "id": "462d0128",
   "metadata": {},
   "outputs": [
    {
     "data": {
      "text/plain": [
       "{323: 'rishabh', '_weew': 'kumar', True: '32323'}"
      ]
     },
     "execution_count": 19,
     "metadata": {},
     "output_type": "execute_result"
    }
   ],
   "source": [
    "d3"
   ]
  },
  {
   "cell_type": "code",
   "execution_count": 21,
   "id": "2fc7e527",
   "metadata": {},
   "outputs": [
    {
     "data": {
      "text/plain": [
       "'rishabh'"
      ]
     },
     "execution_count": 21,
     "metadata": {},
     "output_type": "execute_result"
    }
   ],
   "source": [
    "d3[323]"
   ]
  },
  {
   "cell_type": "code",
   "execution_count": 22,
   "id": "6b592f3e",
   "metadata": {},
   "outputs": [
    {
     "data": {
      "text/plain": [
       "'32323'"
      ]
     },
     "execution_count": 22,
     "metadata": {},
     "output_type": "execute_result"
    }
   ],
   "source": [
    "d3[True]"
   ]
  },
  {
   "cell_type": "code",
   "execution_count": 23,
   "id": "110cc038",
   "metadata": {},
   "outputs": [
    {
     "data": {
      "text/plain": [
       "'32323'"
      ]
     },
     "execution_count": 23,
     "metadata": {},
     "output_type": "execute_result"
    }
   ],
   "source": [
    "d3[1]"
   ]
  },
  {
   "cell_type": "code",
   "execution_count": 25,
   "id": "982229e3",
   "metadata": {},
   "outputs": [],
   "source": [
    "d4  = {\"name\":\"sudh\", \"mail\":\"ss@gmail\", \"name\":\"rishabh\"}"
   ]
  },
  {
   "cell_type": "markdown",
   "id": "ac193c4b",
   "metadata": {},
   "source": [
    "#### "
   ]
  },
  {
   "cell_type": "code",
   "execution_count": 26,
   "id": "4ed296d6",
   "metadata": {},
   "outputs": [
    {
     "data": {
      "text/plain": [
       "{'name': 'rishabh', 'mail': 'ss@gmail'}"
      ]
     },
     "execution_count": 26,
     "metadata": {},
     "output_type": "execute_result"
    }
   ],
   "source": [
    "d4"
   ]
  },
  {
   "cell_type": "code",
   "execution_count": 28,
   "id": "4a6ecd98",
   "metadata": {},
   "outputs": [
    {
     "data": {
      "text/plain": [
       "'rishabh'"
      ]
     },
     "execution_count": 28,
     "metadata": {},
     "output_type": "execute_result"
    }
   ],
   "source": [
    "d4['name']"
   ]
  },
  {
   "cell_type": "code",
   "execution_count": 32,
   "id": "002e659b",
   "metadata": {},
   "outputs": [],
   "source": [
    "d5 = {\"company\":\"pwskills\", \"course\":['webdev','data science','java with dsa']}"
   ]
  },
  {
   "cell_type": "code",
   "execution_count": 33,
   "id": "d78be7f9",
   "metadata": {},
   "outputs": [
    {
     "data": {
      "text/plain": [
       "{'company': 'pwskills', 'course': ['webdev', 'data science', 'java with dsa']}"
      ]
     },
     "execution_count": 33,
     "metadata": {},
     "output_type": "execute_result"
    }
   ],
   "source": [
    "d5"
   ]
  },
  {
   "cell_type": "code",
   "execution_count": 36,
   "id": "a799e4a3",
   "metadata": {},
   "outputs": [
    {
     "data": {
      "text/plain": [
       "'java with dsa'"
      ]
     },
     "execution_count": 36,
     "metadata": {},
     "output_type": "execute_result"
    }
   ],
   "source": [
    "d5[\"course\"][2]"
   ]
  },
  {
   "cell_type": "code",
   "execution_count": 52,
   "id": "b7d74eca",
   "metadata": {},
   "outputs": [
    {
     "ename": "SyntaxError",
     "evalue": "invalid syntax (1957897826.py, line 1)",
     "output_type": "error",
     "traceback": [
      "\u001b[1;36m  File \u001b[1;32m\"C:\\Users\\Nidhi Singh\\AppData\\Local\\Temp\\ipykernel_14108\\1957897826.py\"\u001b[1;36m, line \u001b[1;32m1\u001b[0m\n\u001b[1;33m    d6 = {\"number\":[1,23,,435,5,5], \"assignment\":(1,2,3,4,5,6)}, \"launch_date\":{28,12,14}, \"class_time\":{\"web dev\":8,\"data science masters\":8,\"java with dsa\":7]}\u001b[0m\n\u001b[1;37m                         ^\u001b[0m\n\u001b[1;31mSyntaxError\u001b[0m\u001b[1;31m:\u001b[0m invalid syntax\n"
     ]
    }
   ],
   "source": [
    "d6 = {\"number\":[1,23,,435,5,5], \"assignment\":(1,2,3,4,5,6)}, \"launch_date\":{28,12,14}, \"class_time\":{\"web dev\":8,\"data science masters\":8,\"java with dsa\":7]}"
   ]
  },
  {
   "cell_type": "code",
   "execution_count": null,
   "id": "488497d2",
   "metadata": {},
   "outputs": [],
   "source": []
  },
  {
   "cell_type": "code",
   "execution_count": null,
   "id": "800858e3",
   "metadata": {},
   "outputs": [],
   "source": []
  }
 ],
 "metadata": {
  "kernelspec": {
   "display_name": "Python 3 (ipykernel)",
   "language": "python",
   "name": "python3"
  },
  "language_info": {
   "codemirror_mode": {
    "name": "ipython",
    "version": 3
   },
   "file_extension": ".py",
   "mimetype": "text/x-python",
   "name": "python",
   "nbconvert_exporter": "python",
   "pygments_lexer": "ipython3",
   "version": "3.9.13"
  }
 },
 "nbformat": 4,
 "nbformat_minor": 5
}
